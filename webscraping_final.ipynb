{
 "cells": [
  {
   "cell_type": "code",
   "execution_count": 33,
   "id": "46713588",
   "metadata": {},
   "outputs": [],
   "source": [
    "############### DO NOT USE TJE OPTIOM IN KERNEL to RUN ALL CELLS###########################\n",
    "############### RUN ONE BY ONE IN EXACT SEQUENCE###########################\n",
    "############### WAIT FOR ONE CELL TO EXECUTE BEFORE RUNNING THE NEXT CELL###########################\n",
    "\n",
    "\n",
    "# import required libraries\n",
    "from selenium import webdriver\n",
    "from selenium.webdriver.chrome.service import Service as ChromeService\n",
    "from webdriver_manager.chrome import ChromeDriverManager\n",
    "from selenium.webdriver.support.wait import WebDriverWait \n",
    "from selenium.webdriver.chrome.options import Options\n",
    "from selenium.webdriver.support import expected_conditions as EC\n",
    "from selenium.webdriver.common.by import By\n",
    "\n",
    "# Install webdriver manager to automatically detect driver location\n",
    "service = ChromeService(executable_path=ChromeDriverManager().install())\n",
    "\n",
    "# Set up ChromeDriver options\n",
    "chrome_options = Options()\n",
    "chrome_options.add_argument('--headless') # Run in headless mode to avoid opening a new browser window\n",
    "\n",
    "# Initialize empty list to store results\n",
    "all_urls = []\n",
    "n = 10\n",
    "\n",
    "# Loop over 100 websites\n",
    "for i in range(1, n+1):\n",
    "    # Build URL for current website\n",
    "    url = f\"https://wirmarket.wir.ch/de/members/list/?page={i}&resultAmount=100\"\n",
    "    \n",
    "    # Launch ChromeDriver and load website\n",
    "    \n",
    "    # Change the below line of code to driver = webdriver.Chrome(service=service, options = chrome_options) if you don't want web pages to open in browser windows\n",
    "    driver = webdriver.Chrome(service=service)\n",
    "    driver.get(url)\n",
    "    \n",
    "    # Wait for website to load completely (Don't uncomment this line of code unless you have very fast internet or it will raise timeout exception)\n",
    "    WebDriverWait(driver, 10).until(EC.presence_of_element_located((By.CSS_SELECTOR, \"a\")))\n",
    "    \n",
    "       \n",
    "    # Get all urls\n",
    "    current_url = driver.current_url\n",
    "    all_urls.append(current_url)\n",
    "    \n",
    "    # Close the current browser window (Don't uncomment this line of code or the pages will not be loaded completely)\n",
    "    driver.quit()\n"
   ]
  },
  {
   "cell_type": "code",
   "execution_count": 59,
   "id": "9c454275",
   "metadata": {},
   "outputs": [],
   "source": [
    "### Testing chromedriver\n",
    "import time\n",
    "from selenium import webdriver\n",
    "from selenium.webdriver.chrome.service import Service as ChromeService\n",
    "from webdriver_manager.chrome import ChromeDriverManager\n",
    "from selenium.webdriver.support.wait import WebDriverWait \n",
    "from selenium.webdriver.chrome.options import Options\n",
    "from selenium.webdriver.support import expected_conditions as EC\n",
    "from selenium.webdriver.common.by import By\n",
    "\n",
    "# Install webdriver manager to automatically detect driver location\n",
    "service = ChromeService(executable_path=ChromeDriverManager().install())\n",
    "\n",
    "# Set up ChromeDriver options\n",
    "chrome_options = Options()\n",
    "chrome_options.add_argument('--headless') # Run in headless mode to avoid opening a new browser window\n",
    "\n",
    "# Initialize empty list to store results\n",
    "all_hrefs = []\n",
    "\n",
    "# Loop over 5 websites\n",
    "for i in range(1,6):\n",
    "    # Build URL for current website\n",
    "    url = f\"https://wirmarket.wir.ch/de/members/list/?page={i}&resultAmount=100\"\n",
    "\n",
    "    # Launch ChromeDriver and load website\n",
    "    driver = webdriver.Chrome(service=service)\n",
    "#     driver.implicitly_wait(20) # seconds\n",
    "    driver.get(url)\n",
    "\n",
    "    # Wait for all anchor elements to be present\n",
    "#     WebDriverWait(driver, 180).until(EC.visiblity_of_all_elements_located((By.CSS_SELECTOR, \"a\")))\n",
    "    time.sleep(15)\n",
    "    # Extract hrefs from all anchor elements on current website\n",
    "    hrefs = [a.get_attribute('href') for a in driver.find_elements(By.CSS_SELECTOR, \"a\")]\n",
    "\n",
    "    # Add hrefs to the list of all hrefs\n",
    "    all_hrefs.extend(hrefs)\n",
    "\n",
    "    # Close the current browser window\n",
    "    driver.quit()\n",
    "\n",
    "# Print all hrefs\n",
    "# print(all_hrefs)\n"
   ]
  },
  {
   "cell_type": "code",
   "execution_count": 60,
   "id": "ff06859e",
   "metadata": {},
   "outputs": [
    {
     "name": "stdout",
     "output_type": "stream",
     "text": [
      "1925\n"
     ]
    }
   ],
   "source": [
    "print(len(all_hrefs))"
   ]
  },
  {
   "cell_type": "code",
   "execution_count": 34,
   "id": "d4ede2a3",
   "metadata": {},
   "outputs": [
    {
     "name": "stdout",
     "output_type": "stream",
     "text": [
      "10\n",
      "10\n"
     ]
    }
   ],
   "source": [
    "print(len(all_urls))\n",
    "print(len(set(all_urls)))"
   ]
  },
  {
   "cell_type": "code",
   "execution_count": 37,
   "id": "e530b585",
   "metadata": {},
   "outputs": [
    {
     "name": "stdout",
     "output_type": "stream",
     "text": [
      "270\n"
     ]
    }
   ],
   "source": [
    "print(len(all_hrefs))"
   ]
  },
  {
   "cell_type": "code",
   "execution_count": 2,
   "id": "873f29c9",
   "metadata": {},
   "outputs": [],
   "source": [
    "# Wait for all pages to load after running the previous cell before extracting hrefs from anchors otherwise results will not be correct\n",
    "# It may take up to one hour for 200-300 web pages\n",
    "all_hrefs = []\n",
    "for url in all_urls:\n",
    "\n",
    " # Extract hrefs from all anchor elements on current website\n",
    "    hrefs = [a.get_attribute('href') for a in driver.find_elements(By.CSS_SELECTOR, \"a\")]\n",
    "    \n",
    "    # Add hrefs to the list of all hrefs\n",
    "    all_hrefs.append((hrefs))"
   ]
  },
  {
   "cell_type": "code",
   "execution_count": 25,
   "id": "e6aa6fd1",
   "metadata": {},
   "outputs": [
    {
     "name": "stdout",
     "output_type": "stream",
     "text": [
      "True\n"
     ]
    }
   ],
   "source": [
    "print(all_hrefs[0] == all_hrefs[1])"
   ]
  },
  {
   "cell_type": "code",
   "execution_count": 3,
   "id": "2a304ec7",
   "metadata": {},
   "outputs": [
    {
     "name": "stdout",
     "output_type": "stream",
     "text": [
      "2\n",
      "[470, 470]\n"
     ]
    }
   ],
   "source": [
    "# Check how many hrefs are there per page of the list\n",
    "print(len(all_hrefs)) # It should be equal to 'n' variable selected in the previous cell\n",
    "href_count = []\n",
    "for i in range(n):\n",
    "    href_count.append(len(all_hrefs[i]))\n",
    "print(href_count) "
   ]
  },
  {
   "cell_type": "code",
   "execution_count": 4,
   "id": "dd9d1536",
   "metadata": {
    "scrolled": true
   },
   "outputs": [
    {
     "name": "stdout",
     "output_type": "stream",
     "text": [
      "940\n",
      "['https://wirmarket.wir.ch/de/', 'https://wirmarket.wir.ch/de/', 'None', 'https://www.wir.ch/fileadmin/user_upload/Dokumente/Flyer/wirmarket-werbemoeglichkeiten-bank-wir-de.pdf', 'https://www.wir.ch/fileadmin/user_upload/Dokumente/Flyer/wirmarket-bedienungsanleitung-bank-wir-de.pdf', 'https://www.wir.ch/de/beratung-service/fuer-geschaeftskunden/wirmarket-nutzen', 'https://www.wir.ch/de/die-bank-wir/kontakt', 'None', 'None', 'None', 'https://wirmarket.wir.ch/de/', 'https://wirmarket.wir.ch/de/members/', 'https://wirmarket.wir.ch/de/shop/', 'https://wirmarket.wir.ch/de/small-ads/', 'https://wirmarket.wir.ch/de/contracts/list/?page=1&sort=created-desc', 'https://www.wir.ch/de/die-bank-wir/veranstaltungen-events', 'None', 'None', 'None', 'None']\n"
     ]
    }
   ],
   "source": [
    "# Prepare the all_hrefs list for scraping by unpacking it in a single list\n",
    "\n",
    "unpacked_hrefs = []\n",
    "for i in range (len(all_hrefs)):\n",
    "    for url in all_hrefs[i]:\n",
    "        unpacked_hrefs.append(str(url)) # Change to string otherwise error wil be raised\n",
    "    \n",
    "    \n",
    "print(len(unpacked_hrefs))\n",
    "print(unpacked_hrefs[:20])\n"
   ]
  },
  {
   "cell_type": "code",
   "execution_count": 41,
   "id": "c5b43fd5",
   "metadata": {},
   "outputs": [
    {
     "name": "stdout",
     "output_type": "stream",
     "text": [
      "270\n",
      "29\n"
     ]
    }
   ],
   "source": [
    "print(len(all_hrefs))\n",
    "print(len(set(all_hrefs)))"
   ]
  },
  {
   "cell_type": "code",
   "execution_count": 5,
   "id": "3a41db46",
   "metadata": {},
   "outputs": [
    {
     "name": "stdout",
     "output_type": "stream",
     "text": [
      "<class 'str'>\n"
     ]
    }
   ],
   "source": [
    "print(type(unpacked_hrefs[2]))"
   ]
  },
  {
   "cell_type": "code",
   "execution_count": 6,
   "id": "d1e85cfe",
   "metadata": {},
   "outputs": [],
   "source": [
    "# Filter the list 'unpacked_hrefs' to keep only the company profile page urls\n",
    "\n",
    "#import regex library\n",
    "import re\n",
    "# regex pattern for company profile pages\n",
    "pattern = r'https:\\/\\/\\w+\\.wir\\.ch\\/de\\/companyProfile\\/profile\\/[0-9A-F]{32}\\/info\\/\\?promo=false$'\n",
    "\n",
    "company_profile_urls = []\n",
    "\n",
    "# loop over unpacked_hrefs to extract company profile urls\n",
    "for href in unpacked_hrefs:\n",
    "    match = re.search(pattern, href)\n",
    "    if match:\n",
    "        url = (match.group())\n",
    "        company_profile_urls.append(url)\n",
    "        \n",
    "\n",
    "\n"
   ]
  },
  {
   "cell_type": "code",
   "execution_count": 7,
   "id": "89e3f6bb",
   "metadata": {},
   "outputs": [
    {
     "name": "stdout",
     "output_type": "stream",
     "text": [
      "600\n",
      "['https://wirmarket.wir.ch/de/companyProfile/profile/3E429FAF45902A65E0540010E0244DC9/info/?promo=false', 'https://wirmarket.wir.ch/de/companyProfile/profile/3E429FAF40F52A65E0540010E0244DC9/info/?promo=false', 'https://wirmarket.wir.ch/de/companyProfile/profile/3E429FAF40F52A65E0540010E0244DC9/info/?promo=false', 'https://wirmarket.wir.ch/de/companyProfile/profile/3E429FAF40F52A65E0540010E0244DC9/info/?promo=false', 'https://wirmarket.wir.ch/de/companyProfile/profile/3E429FAF227F2A65E0540010E0244DC9/info/?promo=false', 'https://wirmarket.wir.ch/de/companyProfile/profile/3E429FAF227F2A65E0540010E0244DC9/info/?promo=false', 'https://wirmarket.wir.ch/de/companyProfile/profile/3E429FAF227F2A65E0540010E0244DC9/info/?promo=false', 'https://wirmarket.wir.ch/de/companyProfile/profile/3E429FAF5A172A65E0540010E0244DC9/info/?promo=false', 'https://wirmarket.wir.ch/de/companyProfile/profile/3E429FAF5A172A65E0540010E0244DC9/info/?promo=false', 'https://wirmarket.wir.ch/de/companyProfile/profile/3E429FAF5A172A65E0540010E0244DC9/info/?promo=false']\n"
     ]
    }
   ],
   "source": [
    "# check the length of the list \"coompany_profiles_urls\"\n",
    "print(len(company_profile_urls))\n",
    "print(company_profile_urls[-10:])"
   ]
  },
  {
   "cell_type": "code",
   "execution_count": 19,
   "id": "0106b962",
   "metadata": {},
   "outputs": [
    {
     "name": "stdout",
     "output_type": "stream",
     "text": [
      "100\n",
      "100\n"
     ]
    }
   ],
   "source": [
    "# Remove duplicates\n",
    "company_profile_set = set(company_profile_urls)\n",
    "company_profile_list = list(company_profile_set)\n",
    "print(len(company_profile_set))\n",
    "print(len(company_profile_list))"
   ]
  },
  {
   "cell_type": "code",
   "execution_count": 20,
   "id": "ee5a207a",
   "metadata": {},
   "outputs": [],
   "source": [
    "# Get urls of all hrefs embedded in a website\n",
    "import requests\n",
    "\n",
    "pattern = r'^https?:\\/\\/(?:www\\.)?([^:\\/\\n]+)(?:\\/)?$'\n",
    "# specify the URL of the website that you want to scrape\n",
    "all_profile_hrefs = []\n",
    "for company_profile in company_profile_list:\n",
    "    \n",
    "    # Extract hrefs from all anchor elements on current website\n",
    "    profile_hrefs = [a.get_attribute('href') for a in driver.find_elements(By.CSS_SELECTOR, \"a\")]\n",
    "    for href  in profile_hrefs:\n",
    "        match = re.search(pattern, str(href))\n",
    "        if match:\n",
    "            url = (match.group())\n",
    "    # Add hrefs to the list of al_profile_hrefs\n",
    "            all_profile_hrefs.append(url)\n"
   ]
  },
  {
   "cell_type": "code",
   "execution_count": 21,
   "id": "dc008016",
   "metadata": {},
   "outputs": [
    {
     "name": "stdout",
     "output_type": "stream",
     "text": [
      "396\n"
     ]
    }
   ],
   "source": [
    "print(len(all_profile_hrefs))"
   ]
  },
  {
   "cell_type": "code",
   "execution_count": 22,
   "id": "8e2e9cd2",
   "metadata": {},
   "outputs": [
    {
     "name": "stdout",
     "output_type": "stream",
     "text": [
      "['http://www.naturapet.swiss/', 'http://www.swidro.ch/', 'https://www.wir.ch/', 'https://blog.wir.ch/', 'http://www.naturapet.swiss/', 'http://www.swidro.ch/', 'https://www.wir.ch/', 'https://blog.wir.ch/', 'http://www.naturapet.swiss/', 'http://www.swidro.ch/', 'https://www.wir.ch/', 'https://blog.wir.ch/', 'http://www.naturapet.swiss/', 'http://www.swidro.ch/', 'https://www.wir.ch/', 'https://blog.wir.ch/', 'http://www.naturapet.swiss/', 'http://www.swidro.ch/', 'https://www.wir.ch/', 'https://blog.wir.ch/', 'http://www.naturapet.swiss/', 'http://www.swidro.ch/', 'https://www.wir.ch/', 'https://blog.wir.ch/', 'http://www.naturapet.swiss/', 'http://www.swidro.ch/', 'https://www.wir.ch/', 'https://blog.wir.ch/', 'http://www.naturapet.swiss/', 'http://www.swidro.ch/', 'https://www.wir.ch/', 'https://blog.wir.ch/', 'http://www.naturapet.swiss/', 'http://www.swidro.ch/', 'https://www.wir.ch/', 'https://blog.wir.ch/', 'http://www.naturapet.swiss/', 'http://www.swidro.ch/', 'https://www.wir.ch/', 'https://blog.wir.ch/', 'http://www.naturapet.swiss/', 'http://www.swidro.ch/', 'https://www.wir.ch/', 'https://blog.wir.ch/', 'http://www.naturapet.swiss/', 'http://www.swidro.ch/', 'https://www.wir.ch/', 'https://blog.wir.ch/', 'http://www.naturapet.swiss/', 'http://www.swidro.ch/', 'https://www.wir.ch/', 'https://blog.wir.ch/', 'http://www.naturapet.swiss/', 'http://www.swidro.ch/', 'https://www.wir.ch/', 'https://blog.wir.ch/', 'http://www.naturapet.swiss/', 'http://www.swidro.ch/', 'https://www.wir.ch/', 'https://blog.wir.ch/', 'http://www.naturapet.swiss/', 'http://www.swidro.ch/', 'https://www.wir.ch/', 'https://blog.wir.ch/', 'http://www.naturapet.swiss/', 'http://www.swidro.ch/', 'https://www.wir.ch/', 'https://blog.wir.ch/', 'http://www.naturapet.swiss/', 'http://www.swidro.ch/', 'https://www.wir.ch/', 'https://blog.wir.ch/', 'http://www.naturapet.swiss/', 'http://www.swidro.ch/', 'https://www.wir.ch/', 'https://blog.wir.ch/', 'http://www.naturapet.swiss/', 'http://www.swidro.ch/', 'https://www.wir.ch/', 'https://blog.wir.ch/', 'http://www.naturapet.swiss/', 'http://www.swidro.ch/', 'https://www.wir.ch/', 'https://blog.wir.ch/', 'http://www.naturapet.swiss/', 'http://www.swidro.ch/', 'https://www.wir.ch/', 'https://blog.wir.ch/', 'http://www.naturapet.swiss/', 'http://www.swidro.ch/', 'https://www.wir.ch/', 'https://blog.wir.ch/', 'http://www.naturapet.swiss/', 'http://www.swidro.ch/', 'https://www.wir.ch/', 'https://blog.wir.ch/', 'http://www.naturapet.swiss/', 'http://www.swidro.ch/', 'https://www.wir.ch/', 'https://blog.wir.ch/', 'http://www.naturapet.swiss/', 'http://www.swidro.ch/', 'https://www.wir.ch/', 'https://blog.wir.ch/', 'http://www.naturapet.swiss/', 'http://www.swidro.ch/', 'https://www.wir.ch/', 'https://blog.wir.ch/', 'http://www.naturapet.swiss/', 'http://www.swidro.ch/', 'https://www.wir.ch/', 'https://blog.wir.ch/', 'http://www.naturapet.swiss/', 'http://www.swidro.ch/', 'https://www.wir.ch/', 'https://blog.wir.ch/', 'http://www.naturapet.swiss/', 'http://www.swidro.ch/', 'https://www.wir.ch/', 'https://blog.wir.ch/', 'http://www.naturapet.swiss/', 'http://www.swidro.ch/', 'https://www.wir.ch/', 'https://blog.wir.ch/', 'http://www.naturapet.swiss/', 'http://www.swidro.ch/', 'https://www.wir.ch/', 'https://blog.wir.ch/', 'http://www.naturapet.swiss/', 'http://www.swidro.ch/', 'https://www.wir.ch/', 'https://blog.wir.ch/', 'http://www.naturapet.swiss/', 'http://www.swidro.ch/', 'https://www.wir.ch/', 'https://blog.wir.ch/', 'http://www.naturapet.swiss/', 'http://www.swidro.ch/', 'https://www.wir.ch/', 'https://blog.wir.ch/', 'http://www.naturapet.swiss/', 'http://www.swidro.ch/', 'https://www.wir.ch/', 'https://blog.wir.ch/', 'http://www.naturapet.swiss/', 'http://www.swidro.ch/', 'https://www.wir.ch/', 'https://blog.wir.ch/', 'http://www.naturapet.swiss/', 'http://www.swidro.ch/', 'https://www.wir.ch/', 'https://blog.wir.ch/', 'http://www.naturapet.swiss/', 'http://www.swidro.ch/', 'https://www.wir.ch/', 'https://blog.wir.ch/', 'http://www.naturapet.swiss/', 'http://www.swidro.ch/', 'https://www.wir.ch/', 'https://blog.wir.ch/', 'http://www.naturapet.swiss/', 'http://www.swidro.ch/', 'https://www.wir.ch/', 'https://blog.wir.ch/', 'http://www.naturapet.swiss/', 'http://www.swidro.ch/', 'https://www.wir.ch/', 'https://blog.wir.ch/', 'http://www.naturapet.swiss/', 'http://www.swidro.ch/', 'https://www.wir.ch/', 'https://blog.wir.ch/', 'http://www.naturapet.swiss/', 'http://www.swidro.ch/', 'https://www.wir.ch/', 'https://blog.wir.ch/', 'http://www.naturapet.swiss/', 'http://www.swidro.ch/', 'https://www.wir.ch/', 'https://blog.wir.ch/', 'http://www.naturapet.swiss/', 'http://www.swidro.ch/', 'https://www.wir.ch/', 'https://blog.wir.ch/', 'http://www.naturapet.swiss/', 'http://www.swidro.ch/', 'https://www.wir.ch/', 'https://blog.wir.ch/', 'http://www.naturapet.swiss/', 'http://www.swidro.ch/', 'https://www.wir.ch/', 'https://blog.wir.ch/', 'http://www.naturapet.swiss/', 'http://www.swidro.ch/', 'https://www.wir.ch/', 'https://blog.wir.ch/', 'http://www.naturapet.swiss/', 'http://www.swidro.ch/', 'https://www.wir.ch/', 'https://blog.wir.ch/', 'http://www.naturapet.swiss/', 'http://www.swidro.ch/', 'https://www.wir.ch/', 'https://blog.wir.ch/', 'http://www.naturapet.swiss/', 'http://www.swidro.ch/', 'https://www.wir.ch/', 'https://blog.wir.ch/', 'http://www.naturapet.swiss/', 'http://www.swidro.ch/', 'https://www.wir.ch/', 'https://blog.wir.ch/', 'http://www.naturapet.swiss/', 'http://www.swidro.ch/', 'https://www.wir.ch/', 'https://blog.wir.ch/', 'http://www.naturapet.swiss/', 'http://www.swidro.ch/', 'https://www.wir.ch/', 'https://blog.wir.ch/', 'http://www.naturapet.swiss/', 'http://www.swidro.ch/', 'https://www.wir.ch/', 'https://blog.wir.ch/', 'http://www.naturapet.swiss/', 'http://www.swidro.ch/', 'https://www.wir.ch/', 'https://blog.wir.ch/', 'http://www.naturapet.swiss/', 'http://www.swidro.ch/', 'https://www.wir.ch/', 'https://blog.wir.ch/', 'http://www.naturapet.swiss/', 'http://www.swidro.ch/', 'https://www.wir.ch/', 'https://blog.wir.ch/', 'http://www.naturapet.swiss/', 'http://www.swidro.ch/', 'https://www.wir.ch/', 'https://blog.wir.ch/', 'http://www.naturapet.swiss/', 'http://www.swidro.ch/', 'https://www.wir.ch/', 'https://blog.wir.ch/', 'http://www.naturapet.swiss/', 'http://www.swidro.ch/', 'https://www.wir.ch/', 'https://blog.wir.ch/', 'http://www.naturapet.swiss/', 'http://www.swidro.ch/', 'https://www.wir.ch/', 'https://blog.wir.ch/', 'http://www.naturapet.swiss/', 'http://www.swidro.ch/', 'https://www.wir.ch/', 'https://blog.wir.ch/', 'http://www.naturapet.swiss/', 'http://www.swidro.ch/', 'https://www.wir.ch/', 'https://blog.wir.ch/', 'http://www.naturapet.swiss/', 'http://www.swidro.ch/', 'https://www.wir.ch/', 'https://blog.wir.ch/', 'http://www.naturapet.swiss/', 'http://www.swidro.ch/', 'https://www.wir.ch/', 'https://blog.wir.ch/', 'http://www.naturapet.swiss/', 'http://www.swidro.ch/', 'https://www.wir.ch/', 'https://blog.wir.ch/', 'http://www.naturapet.swiss/', 'http://www.swidro.ch/', 'https://www.wir.ch/', 'https://blog.wir.ch/', 'http://www.naturapet.swiss/', 'http://www.swidro.ch/', 'https://www.wir.ch/', 'https://blog.wir.ch/', 'http://www.naturapet.swiss/', 'http://www.swidro.ch/', 'https://www.wir.ch/', 'https://blog.wir.ch/', 'http://www.naturapet.swiss/', 'http://www.swidro.ch/', 'https://www.wir.ch/', 'https://blog.wir.ch/', 'http://www.naturapet.swiss/', 'http://www.swidro.ch/', 'https://www.wir.ch/', 'https://blog.wir.ch/', 'http://www.naturapet.swiss/', 'http://www.swidro.ch/', 'https://www.wir.ch/', 'https://blog.wir.ch/', 'http://www.naturapet.swiss/', 'http://www.swidro.ch/', 'https://www.wir.ch/', 'https://blog.wir.ch/', 'http://www.naturapet.swiss/', 'http://www.swidro.ch/', 'https://www.wir.ch/', 'https://blog.wir.ch/', 'http://www.naturapet.swiss/', 'http://www.swidro.ch/', 'https://www.wir.ch/', 'https://blog.wir.ch/', 'http://www.naturapet.swiss/', 'http://www.swidro.ch/', 'https://www.wir.ch/', 'https://blog.wir.ch/', 'http://www.naturapet.swiss/', 'http://www.swidro.ch/', 'https://www.wir.ch/', 'https://blog.wir.ch/', 'http://www.naturapet.swiss/', 'http://www.swidro.ch/', 'https://www.wir.ch/', 'https://blog.wir.ch/', 'http://www.naturapet.swiss/', 'http://www.swidro.ch/', 'https://www.wir.ch/', 'https://blog.wir.ch/', 'http://www.naturapet.swiss/', 'http://www.swidro.ch/', 'https://www.wir.ch/', 'https://blog.wir.ch/', 'https://www.wir.ch/', 'https://blog.wir.ch/', 'https://www.wir.ch/', 'https://blog.wir.ch/', 'http://www.arsmusica.eu/', 'http://www.arsmusica.eu/', 'https://www.wir.ch/', 'https://blog.wir.ch/', 'http://www.arsmusica.eu/', 'http://www.arsmusica.eu/', 'https://www.wir.ch/', 'https://blog.wir.ch/', 'http://www.arsmusica.eu/', 'http://www.arsmusica.eu/', 'https://www.wir.ch/', 'https://blog.wir.ch/', 'http://www.arsmusica.eu/', 'http://www.arsmusica.eu/', 'https://www.wir.ch/', 'https://blog.wir.ch/', 'http://www.arsmusica.eu/', 'http://www.arsmusica.eu/', 'https://www.wir.ch/', 'https://blog.wir.ch/', 'http://www.arsmusica.eu/', 'http://www.arsmusica.eu/', 'https://www.wir.ch/', 'https://blog.wir.ch/', 'http://www.arsmusica.eu/', 'http://www.arsmusica.eu/', 'https://www.wir.ch/', 'https://blog.wir.ch/', 'http://www.arsmusica.eu/', 'http://www.arsmusica.eu/', 'https://www.wir.ch/', 'https://blog.wir.ch/', 'http://www.arsmusica.eu/', 'http://www.arsmusica.eu/', 'https://www.wir.ch/', 'https://blog.wir.ch/', 'http://www.arsmusica.eu/', 'http://www.arsmusica.eu/', 'https://www.wir.ch/', 'https://blog.wir.ch/', 'http://www.arsmusica.eu/', 'http://www.arsmusica.eu/', 'https://www.wir.ch/', 'https://blog.wir.ch/', 'http://www.arsmusica.eu/', 'http://www.arsmusica.eu/', 'https://www.wir.ch/', 'https://blog.wir.ch/', 'http://www.arsmusica.eu/', 'http://www.arsmusica.eu/', 'https://www.wir.ch/', 'https://blog.wir.ch/', 'http://www.arsmusica.eu/', 'http://www.arsmusica.eu/', 'https://www.wir.ch/', 'https://blog.wir.ch/', 'http://www.arsmusica.eu/', 'http://www.arsmusica.eu/', 'https://www.wir.ch/', 'https://blog.wir.ch/', 'http://www.arsmusica.eu/', 'http://www.arsmusica.eu/', 'https://www.wir.ch/', 'https://blog.wir.ch/']\n"
     ]
    }
   ],
   "source": [
    "print(all_profile_hrefs)"
   ]
  },
  {
   "cell_type": "code",
   "execution_count": 30,
   "id": "da65836e",
   "metadata": {},
   "outputs": [
    {
     "name": "stdout",
     "output_type": "stream",
     "text": [
      "email information not present on https://www.colorino.ch/\n",
      "email information not present on https://www.easywash.ch/home\n",
      "Email addresses found on https://www.pneuboesiger.ch/:\n",
      "pneu@boesiger-langenthal.ch\n",
      "pneu@boesiger-langenthal.ch\n",
      "pneu@boesiger-langenthal.ch\n",
      "pneu@boesiger-langenthal.ch\n",
      "b.leandro@boesiger-langenthal.ch\n",
      "b.leandro@boesiger-langenthal.ch\n",
      "Email addresses found on https://www.arsmusica.com/:\n",
      "info@arsmusica.eu\n",
      "info@arsmusica.eu\n",
      "info@arsmusica.eu\n",
      "info@arsmusica.eu\n",
      "info@arsmusica.eu\n",
      "info@arsmusica.eu\n",
      "Email addresses found on http://www.auto-moersburg.ch:\n",
      "info@auto-moersburg.ch\n",
      "info@auto-moersburg.ch\n",
      "info@auto-moersburg.ch\n",
      "email information not present on http://www.prodemo.com\n",
      "Email addresses found on  http://www.tawan-thai.ch:\n",
      "605a7baede844d278b89dc95ae0a9123@sentry-next.wixpress.com\n",
      "dd0a55ccb8124b9c9d938e3acf41f8aa@sentry.wixpress.com\n",
      "8c4075d5481d476e945486754f783364@sentry.io\n",
      "8eb368c655b84e029ed79ad7a5c1718e@sentry.wixpress.com\n",
      "8eb368c655b84e029ed79ad7a5c1718e@sentry.wixpress.com\n",
      "dd0a55ccb8124b9c9d938e3acf41f8aa@sentry.wixpress.com\n",
      "8c4075d5481d476e945486754f783364@sentry.io\n",
      "8eb368c655b84e029ed79ad7a5c1718e@sentry.wixpress.com\n",
      "8eb368c655b84e029ed79ad7a5c1718e@sentry.wixpress.com\n",
      "dd0a55ccb8124b9c9d938e3acf41f8aa@sentry.wixpress.com\n",
      "8c4075d5481d476e945486754f783364@sentry.io\n",
      "8eb368c655b84e029ed79ad7a5c1718e@sentry.wixpress.com\n",
      "8eb368c655b84e029ed79ad7a5c1718e@sentry.wixpress.com\n",
      "8eb368c655b84e029ed79ad7a5c1718e@sentry.wixpress.com\n",
      "8eb368c655b84e029ed79ad7a5c1718e@sentry.wixpress.com\n",
      "8eb368c655b84e029ed79ad7a5c1718e@sentry.wixpress.com\n",
      "8eb368c655b84e029ed79ad7a5c1718e@sentry.wixpress.com\n",
      "8eb368c655b84e029ed79ad7a5c1718e@sentry.wixpress.com\n",
      "dd0a55ccb8124b9c9d938e3acf41f8aa@sentry.wixpress.com\n",
      "8c4075d5481d476e945486754f783364@sentry.io\n",
      "Email addresses found on  http://www.silvretta.ch:\n",
      "info@silvretta.ch\n",
      "info@silvretta.ch\n"
     ]
    }
   ],
   "source": [
    "# Script to extract email from a list of websites\n",
    "\n",
    "import requests\n",
    "import re\n",
    "# websites = all_profile_hrefs\n",
    "websites = [\"https://www.colorino.ch/\",\n",
    "            \"https://www.easywash.ch/home\",\n",
    "            \"https://www.pneuboesiger.ch/\",\n",
    "           'https://www.arsmusica.com/',\n",
    "            'http://www.auto-moersburg.ch',\n",
    "            'http://www.prodemo.com', \n",
    "           ' http://www.tawan-thai.ch',\n",
    "           ' http://www.silvretta.ch']\n",
    "\n",
    "for website in websites:\n",
    "    response = requests.get(website)\n",
    "    if response.status_code == 200:\n",
    "        # regex pattern to match email addresses\n",
    "        pattern = r'\\b[A-Za-z0-9._%+-]+@[A-Za-z0-9.-]+\\.[A-Z|a-z]{2,}\\b'\n",
    "        # find all email addresses in the website content\n",
    "        emails = re.findall(pattern, response.text)\n",
    "        if emails:\n",
    "            print(f\"Email addresses found on {website}:\")\n",
    "        else:\n",
    "            print(f\"email information not present on {website}\")\n",
    "        \n",
    "        \n",
    "        for email in emails:\n",
    "            print(email)\n",
    "    else:\n",
    "        print(f\"Failed to retrieve content from {website}\")\n"
   ]
  },
  {
   "cell_type": "code",
   "execution_count": null,
   "id": "c9723bae",
   "metadata": {},
   "outputs": [],
   "source": []
  }
 ],
 "metadata": {
  "kernelspec": {
   "display_name": "Python 3 (ipykernel)",
   "language": "python",
   "name": "python3"
  },
  "language_info": {
   "codemirror_mode": {
    "name": "ipython",
    "version": 3
   },
   "file_extension": ".py",
   "mimetype": "text/x-python",
   "name": "python",
   "nbconvert_exporter": "python",
   "pygments_lexer": "ipython3",
   "version": "3.10.9"
  }
 },
 "nbformat": 4,
 "nbformat_minor": 5
}
