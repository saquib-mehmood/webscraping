{
 "cells": [
  {
   "cell_type": "code",
   "execution_count": 1,
   "id": "d83340ce",
   "metadata": {},
   "outputs": [
    {
     "name": "stderr",
     "output_type": "stream",
     "text": [
      "[WDM] - Downloading: 100%|████████████████████████████████████████████████████████| 6.78M/6.78M [00:00<00:00, 8.04MB/s]\n"
     ]
    }
   ],
   "source": [
    "#####################This program uses Selenium which has known issues of intermittance#############\n",
    "############################Execute all cells in sequence#########################################\n",
    "################Don't start executing next cell till execution of one is finished##################\n",
    "################Don't give \"Restart and Run All\" command from Kernel above#########################\n",
    "\n",
    "# import necessary libraries\n",
    "import time\n",
    "from selenium import webdriver\n",
    "from selenium.webdriver.chrome.service import Service as ChromeService\n",
    "from webdriver_manager.chrome import ChromeDriverManager\n",
    "from selenium.webdriver.support.wait import WebDriverWait \n",
    "from selenium.webdriver.chrome.options import Options\n",
    "from selenium.webdriver.support import expected_conditions as EC\n",
    "from selenium.webdriver.common.by import By\n",
    "\n",
    "# Install webdriver manager to automatically detect driver location\n",
    "service = ChromeService(executable_path=ChromeDriverManager().install())\n",
    "\n",
    "# Set up ChromeDriver options\n",
    "chrome_options = Options()\n",
    "chrome_options.add_argument('--headless') # Run in headless mode to avoid opening a new browser window\n",
    "\n",
    "# Initialize empty list to store results\n",
    "all_hrefs = []\n",
    "\n",
    "n = 5 #Number of list pages to be looped over\n",
    "\n",
    "# Loop over 5 list pages\n",
    "for i in range(1,n+1):\n",
    "    # Build URL for current list pages having links to company profiles\n",
    "    url = f\"https://wirmarket.wir.ch/de/members/list/?page={i}&resultAmount=100\"\n",
    "\n",
    "    # Launch ChromeDriver and load websites\n",
    "    # In order to disable browser windows opening for websites amend the code of the following line:\n",
    "    # driver = webdriver.Chrome(service=service, options = chrome_options)\n",
    "    driver = webdriver.Chrome(service=service)\n",
    "    \n",
    "    # Don't uncomment the code on the following line, it is for testing\n",
    "    #   driver.implicitly_wait(20) # seconds\n",
    "    driver.get(url)\n",
    "\n",
    "    # Wait for all anchor elements to be present\n",
    "    # WebDriverWait(driver, 180).until(EC.visiblity_of_all_elements_located((By.CSS_SELECTOR, \"a\")))\n",
    "    # Due to intermittent functionality of WebDriverWait, we introduce sleep() function to get all anchors\n",
    "    # This value is presently set at 15 secs but you may change it depending upon internet speed\n",
    "    time.sleep(25)\n",
    "    # Extract hrefs from all anchor elements on current website\n",
    "    hrefs = [a.get_attribute('href') for a in driver.find_elements(By.CSS_SELECTOR, \"a\")]\n",
    "\n",
    "    # Add hrefs to the list of all hrefs\n",
    "    all_hrefs.extend(hrefs)\n",
    "\n",
    "    # Close the current browser window\n",
    "    driver.quit()\n",
    "\n",
    "# Print all hrefs\n",
    "# print(all_hrefs)\n"
   ]
  },
  {
   "cell_type": "code",
   "execution_count": 2,
   "id": "8d9b254b",
   "metadata": {},
   "outputs": [
    {
     "name": "stdout",
     "output_type": "stream",
     "text": [
      "2344\n",
      "1050\n"
     ]
    }
   ],
   "source": [
    "# Check the length of all_hrefs list\n",
    "# Each list link contains between 400-500 hrefs\n",
    "print(len(all_hrefs))\n",
    "# Check for duplicates\n",
    "print(len(set(all_hrefs)))"
   ]
  },
  {
   "cell_type": "code",
   "execution_count": 3,
   "id": "0b65fa1b",
   "metadata": {},
   "outputs": [],
   "source": [
    "# Filter the list 'all_hrefs' to keep only the company profile page urls\n",
    "\n",
    "#import regex library\n",
    "import re\n",
    "# regex pattern for company profile pages\n",
    "pattern = r'https:\\/\\/\\w+\\.wir\\.ch\\/de\\/companyProfile\\/profile\\/[0-9A-F]{32}\\/info\\/\\?promo=false$'\n",
    "\n",
    "company_profile_urls = []\n",
    "\n",
    "# loop over all_hrefs list extracted above with Selenium to extract company profile urls\n",
    "for href in all_hrefs:\n",
    "    match = re.search(pattern, str(href))\n",
    "    if match:\n",
    "        url = (match.group())\n",
    "        company_profile_urls.append(url)"
   ]
  },
  {
   "cell_type": "code",
   "execution_count": 4,
   "id": "6687de14",
   "metadata": {},
   "outputs": [
    {
     "name": "stdout",
     "output_type": "stream",
     "text": [
      "1497\n",
      "495\n",
      "495\n",
      "['https://wirmarket.wir.ch/de/companyProfile/profile/3E429FAF26DB2A65E0540010E0244DC9/info/?promo=false', 'https://wirmarket.wir.ch/de/companyProfile/profile/3E429FAF429C2A65E0540010E0244DC9/info/?promo=false', 'https://wirmarket.wir.ch/de/companyProfile/profile/3E429FAF1B502A65E0540010E0244DC9/info/?promo=false', 'https://wirmarket.wir.ch/de/companyProfile/profile/48B16CDC18A536AEE054A0369F14B95F/info/?promo=false', 'https://wirmarket.wir.ch/de/companyProfile/profile/3E429FAF17512A65E0540010E0244DC9/info/?promo=false', 'https://wirmarket.wir.ch/de/companyProfile/profile/3E429FAF185B2A65E0540010E0244DC9/info/?promo=false', 'https://wirmarket.wir.ch/de/companyProfile/profile/3E429FAF3A8A2A65E0540010E0244DC9/info/?promo=false', 'https://wirmarket.wir.ch/de/companyProfile/profile/4A43CC3BB86D3E84E054A0369F14B95F/info/?promo=false', 'https://wirmarket.wir.ch/de/companyProfile/profile/58F4AE743D3F4F79E05400144FF95A47/info/?promo=false', 'https://wirmarket.wir.ch/de/companyProfile/profile/3E429FAF13E92A65E0540010E0244DC9/info/?promo=false']\n"
     ]
    }
   ],
   "source": [
    "# check the length of the list \"coompany_profiles_urls\"\n",
    "print(len(company_profile_urls))\n",
    "# extract unique urls\n",
    "company_profile_set = set(company_profile_urls)\n",
    "print(len(set(company_profile_urls))) \n",
    "# change back to list\n",
    "company_profile_urls = list(company_profile_set)\n",
    "print(len(company_profile_urls))\n",
    "print(company_profile_urls[:10])"
   ]
  },
  {
   "cell_type": "code",
   "execution_count": null,
   "id": "59a12763",
   "metadata": {},
   "outputs": [],
   "source": [
    "# # Get website links of all company websites available on the company profile page as href\n",
    "# # We will need to start the Selenium WebDriver again\n",
    "\n",
    "# pattern = r'^https?:\\/\\/(?:www\\.)?([^:\\/\\n]+)(?:\\/)?$'\n",
    "# # specify the URL of the website that you want to scrape\n",
    "# all_profile_hrefs = []\n",
    "# for company_profile_url in company_profile_urls:\n",
    "    \n",
    "#     # Extract hrefs from all anchor elements on current website\n",
    "#     profile_hrefs = [a.get_attribute('href') for a in driver.find_elements(By.TAG_NAME, \"a\")]\n",
    "#     for href  in profile_hrefs:\n",
    "#         match = re.search(pattern, str(href))\n",
    "#         if match:\n",
    "#             url = (match.group())\n",
    "#     # Add hrefs to the list of al_profile_hrefs\n",
    "#             all_profile_hrefs.append(url)\n"
   ]
  },
  {
   "cell_type": "code",
   "execution_count": null,
   "id": "6d33f9ff",
   "metadata": {},
   "outputs": [],
   "source": [
    "print(len(all_profile_hrefs))"
   ]
  },
  {
   "cell_type": "code",
   "execution_count": null,
   "id": "deeffa67",
   "metadata": {},
   "outputs": [],
   "source": [
    "print(all_profile_hrefs)"
   ]
  },
  {
   "cell_type": "code",
   "execution_count": null,
   "id": "5ea878bf",
   "metadata": {},
   "outputs": [],
   "source": [
    "# Script to extract email from a list of websites\n",
    "\n",
    "import requests\n",
    "import re\n",
    "websites = all_profile_hrefs\n",
    "# websites = [\"https://www.colorino.ch/\",\n",
    "#             \"https://www.easywash.ch/home\",\n",
    "#             \"https://www.pneuboesiger.ch/\",\n",
    "#            'https://www.arsmusica.com/',\n",
    "#             'http://www.auto-moersburg.ch',\n",
    "#             'http://www.prodemo.com', \n",
    "#            ' http://www.tawan-thai.ch',\n",
    "#            ' http://www.silvretta.ch']\n",
    "website_emails = {}\n",
    "\n",
    "for website in websites:\n",
    "    response = requests.get(website)\n",
    "    if response.status_code == 200:\n",
    "        # regex pattern to match email addresses\n",
    "        pattern = r'\\b[A-Za-z0-9._%+-]+@[A-Za-z0-9.-]+\\.[A-Z|a-z]{2,}\\b'\n",
    "        # find all email addresses in the website content\n",
    "        emails = re.findall(pattern, response.text)\n",
    "        if emails:\n",
    "            print(f\"Email addresses found on {website}:\")\n",
    "        else:\n",
    "            print(f\"email information not present on {website}\")\n",
    "        \n",
    "        \n",
    "        for email in emails:\n",
    "            website_emails[website] = email\n",
    "            print(email)\n",
    "    else:\n",
    "        print(f\"Failed to retrieve content from {website}\")\n"
   ]
  },
  {
   "cell_type": "code",
   "execution_count": 53,
   "id": "d23d708e",
   "metadata": {
    "scrolled": true
   },
   "outputs": [],
   "source": [
    "# # pattern = r'^https?:\\/\\/(?:www\\.)?([^:\\/\\n]+)(?:\\/)?$' regex pattern is not needed here as we have the ids\n",
    "# from contextlib import suppress\n",
    "\n",
    "# company_names = []\n",
    "# company_websites = []\n",
    "# company_telephones = []\n",
    "# company_fax = []\n",
    "# confirm_websites = []\n",
    "\n",
    "# for url in company_profile_urls:\n",
    "#     # We put the entire code-block inside the suppress function to ignore known exceptions as try-except is overridden by Selenium\n",
    "#     with suppress(Exception):\n",
    "#         driver = webdriver.Chrome(service=service)\n",
    "#         driver.get(url)\n",
    "# #     time.sleep(3) #activate sleep if WebDriverWait behaves interittently\n",
    "    \n",
    "#         WebDriverWait(driver, 15).until(EC.presence_of_element_located((By.ID, \"68-lnk\")))\n",
    "#         WebDriverWait(driver, 15).until(EC.presence_of_element_located((By.ID, \"66-lnk\")))\n",
    "#         WebDriverWait(driver, 15).until(EC.presence_of_element_located((By.ID, \"fax-lnk\")))\n",
    "#         WebDriverWait(driver, 15).until(EC.presence_of_element_located((By.ID, \"71-lnk\")))\n",
    "    \n",
    "#         # Get company name and website\n",
    "#         anchor = driver.find_element(By.ID,\"71-lnk\")\n",
    "#         company_name = anchor.text\n",
    "#         company_names.append(company_name)   \n",
    "#         company_website = anchor.get_attribute('href')\n",
    "    \n",
    "#         # Confirm website\n",
    "#         anchor = driver.find_element(By.ID, \"68-lnk\")\n",
    "#         confirm_website = anchor.get_attribute('href')\n",
    "#         confirm_websites.append(confirm_website)\n",
    "    \n",
    "#         # Get company telephone number\n",
    "#         anchor = driver.find_element(By.ID, \"66-lnk\")\n",
    "#         company_telephone = anchor.get_attribute('href')\n",
    "#         company_telephones.append(company_telephone)\n",
    "    \n",
    "#         # Get company fax number\n",
    "#         anchor = driver.find_element(By.ID, \"fax-lnk\")\n",
    "#         company_fax_no = anchor.get_attribute('href')\n",
    "#         company_fax.append(company_fax_no)\n",
    "    \n",
    "#         driver.quit()\n",
    "    \n",
    "    \n",
    "    \n"
   ]
  },
  {
   "cell_type": "code",
   "execution_count": 78,
   "id": "bbe0bde4",
   "metadata": {},
   "outputs": [],
   "source": [
    "# from contextlib import suppress\n",
    "\n",
    "# company_names = []\n",
    "# company_websites = []\n",
    "# company_telephones = []\n",
    "# company_fax = []\n",
    "# confirm_websites = []\n",
    "\n",
    "# test_urls = ['https://wirmarket.wir.ch/de/companyProfile/profile/4F9AD522575A2205E054A0369F14B95F/info/?promo=false',\n",
    "#             'https://wirmarket.wir.ch/de/companyProfile/profile/4F9AD522575A2205E054A0369F14B95F/info/?promo=false',\n",
    "#             'https://wirmarket.wir.ch/de/companyProfile/profile/3E429FAF53F52A65E0540010E0244DC9/info/?promo=false']\n",
    "# for url in test_urls:\n",
    "# # for url in company_profile_urls:\n",
    "#     driver = webdriver.Chrome(service=service)\n",
    "#     driver.get(url)\n",
    "\n",
    "# #     with suppress(Exception): \n",
    "# #         try:\n",
    "# #             WebDriverWait(driver, 10).until(EC.presence_of_element_located((By.ID, \"68-lnk\")))\n",
    "# #             anchor = driver.find_element(By.ID, \"68-lnk\")\n",
    "# #             confirm_website = anchor.get_attribute('href')\n",
    "# #         except (NoSuchElementException, TimeoutException):\n",
    "# #             confirm_website = ''\n",
    "# #             confirm_websites.append(confirm_website)\n",
    "# #         finally:\n",
    "# #                 pass\n",
    "    \n",
    "\n",
    "# #         try:\n",
    "# #             WebDriverWait(driver, 10).until(EC.presence_of_element_located((By.ID, \"66-lnk\")))\n",
    "# #             anchor = driver.find_element(By.ID, \"66-lnk\")\n",
    "# #             company_telephone = anchor.get_attribute('href')\n",
    "# #         except (NoSuchElementException, TimeoutException):\n",
    "# #             company_telephone = ''\n",
    "# #             company_telephones.append(company_telephone)\n",
    "# #         finally:\n",
    "# #                 pass\n",
    "\n",
    "# #         try:\n",
    "# #             WebDriverWait(driver, 10).until(EC.presence_of_element_located((By.ID, \"fax-lnk\")))\n",
    "# #             anchor = driver.find_element(By.ID, \"fax-lnk\")\n",
    "# #             company_fax_no = anchor.get_attribute('href')\n",
    "# #         except (NoSuchElementException, TimeoutException):\n",
    "# #             company_fax_no = ''\n",
    "# #             company_fax.append(company_fax_no)\n",
    "# #         finally: \n",
    "# #                 pass\n",
    "\n",
    "#     try:\n",
    "#         WebDriverWait(driver, 10).until(EC.presence_of_element_located((By.ID, \"71-lnk\", \"68-lnk\", \"66-lnk\", \"fax-lnk\")))\n",
    "#         anchor = driver.find_element(By.ID,\"71-lnk\")\n",
    "#         company_name = anchor.text\n",
    "#         company_names.append(company_name)   \n",
    "#         company_website = anchor.get_attribute('href')\n",
    "#     except (NoSuchElementException, TimeoutException):\n",
    "#         company_names.append('')\n",
    "#         company_website = ''\n",
    "#     finally:\n",
    "#             pass\n",
    "\n",
    "\n",
    "#     driver.quit()\n"
   ]
  },
  {
   "cell_type": "code",
   "execution_count": 52,
   "id": "4f607a1c",
   "metadata": {},
   "outputs": [],
   "source": [
    "# for url in company_profile_urls:\n",
    "#     driver = webdriver.Chrome(service=service)\n",
    "#     driver.get(url)\n",
    "    \n",
    "#     try:\n",
    "# #         WebDriverWait(driver, 25).until(EC.presence_of_element_located((By.ID, \"68-lnk\")))\n",
    "# #         WebDriverWait(driver, 25).until(EC.presence_of_element_located((By.ID, \"66-lnk\")))\n",
    "# #         WebDriverWait(driver, 25).until(EC.presence_of_element_located((By.ID, \"fax-lnk\")))\n",
    "# #         WebDriverWait(driver, 25).until(EC.presence_of_element_located((By.ID, \"71-lnk\")))\n",
    "\n",
    "#         time.sleep(7)\n",
    "        \n",
    "#         # Get company name and website\n",
    "#         anchor = driver.find_element(By.ID,\"71-lnk\")\n",
    "#         company_name = anchor.text\n",
    "#         company_names.append(company_name)   \n",
    "#         company_website = anchor.get_attribute('href')\n",
    "        \n",
    "#         # Confirm website\n",
    "#         anchor = driver.find_element(By.ID, \"68-lnk\")\n",
    "#         confirm_website = anchor.get_attribute('href')\n",
    "#         confirm_websites.append(confirm_website)\n",
    "        \n",
    "#         # Get company telephone number\n",
    "#         anchor = driver.find_element(By.ID, \"66-lnk\")\n",
    "#         company_telephone = anchor.get_attribute('href')\n",
    "#         company_telephones.append(company_telephone)\n",
    "        \n",
    "#         # Get company fax number\n",
    "#         anchor = driver.find_element(By.ID, \"fax-lnk\")\n",
    "#         company_fax_no = anchor.get_attribute('href')\n",
    "#         company_fax.append(company_fax_no)\n",
    "        \n",
    "#     except NoSuchElementException:\n",
    "#                                     pass\n",
    "    \n",
    "#     except TimeoutException:\n",
    "#                             pass\n",
    "#     finally:\n",
    "#             pass\n",
    "#     driver.quit()\n",
    "\n"
   ]
  },
  {
   "cell_type": "code",
   "execution_count": 54,
   "id": "7752acd1",
   "metadata": {
    "scrolled": true
   },
   "outputs": [
    {
     "name": "stdout",
     "output_type": "stream",
     "text": [
      "163\n",
      "0\n",
      "0\n",
      "0\n",
      "0\n"
     ]
    }
   ],
   "source": [
    "print(len(company_names))\n",
    "print(len(company_telephones))\n",
    "print(len(company_fax))\n",
    "print(len(company_websites))\n",
    "print(len(confirm_websites))"
   ]
  },
  {
   "cell_type": "code",
   "execution_count": 73,
   "id": "1b48f12d",
   "metadata": {},
   "outputs": [
    {
     "name": "stdout",
     "output_type": "stream",
     "text": [
      "['Winterberger Holzbau AG', 'Alexander-Gerbi-Wellness AG', 'Föhn Transport GmbH', 'Abdichtungsbau Durrer AG', 'LBG Sursee Genossenschaft, Schenkon', 'KOCH Group AG St. Gallen', 'Felix Enzler Unterlagsböden AG', 'Auto-Center Küng AG', 'F.Tobler AG', 'Zysset + Partner AG', 'Peter Kämpfer GmbH', 'Ancotech AG', 'VIP Versandservice GmbH', 'DS-Arvotech AG', 'Bäck.Tea-Room + Garni Imseng', 'Netprom GmbH', 'Kurt Hofer Immobiliare Sagl', 'Auto Amrein AG, Altbüron', 'Fredi Sidler Transport AG', 'Gemobau Architekten AG', 'Facetec S.A.', 'Schröder Baumanagement GmbH', 'Phoenix Basel AG', 'Dobler Druck', 'Forster Plan AG', 'Caméléon Rouvinet Sàrl', 'Parkettgeschäft H.Krenz', 'Tedi Kriens AG', 'Mattiello Gerüstbau AG', 'Z-Audio Animatec AG', 'ZIP Jean-Paul Vitek', 'Paul Sauter AG', 'Rudolf Grogg AG', 'M. Bleiker Carrosserie', 'Viglezio Pneumatici SA', 'Ardüser Bauunternehmung AG', 'Norma Reiden AG', 'Garten Bieri AG', 'Jules Steiger AG', 'Ruwex AG', 'Inauen Holzbau AG', 'Passeraub Werbe AG', 'Jung & Partner Bauspengl.AG', 'Hauri Bautechnik AG', 'Meier + Dilitz Haustechnik AG', 'Wagner Metallgiesserei AG', 'Paul Marti AG', 'Schneider Installations AG', 'Kreativ Küchen GmbH', 'Camiu Haustechnik AG', 'rabor Alberto Keller', 'Restaurant Schwarzseestärn', 'Keller & Steiner AG Fahrwangen', 'Bruno Burch AG', 'Imartis AG', 'Weibel Druck AG', 'Stadelmann & Stutz AG', 'Urs Benz Arzt', 'Seminarhotel am Aegerisee', 'GASSER Otto & Daniel GmbH', 'Restaurant Landhaus Liebefeld AG', 'Probst Stempel', 'Drogerie Rütimann AG', 'Heinz Werthmüller Baugeschäft AG', 'Brönnimann Holzbau AG', 'STÄHLI AG ARCHITEKTEN SIA', 'Walter Amacher Architekten AG', 'Lötscher-Druck AG', 'M.Kneubühler AG', 'Auto-Center-Freiamt AG', 'Neidhart Stäfa AG', 'TSAB Thurnherr SA', 'FANKHAUSER AG HUTTWIL, Rohrbach', 'W. Schweizer Tuning AG', 'H & T Raumdesign AG', 'Emil Weber Motos AG', 'Spühler & Co Radio TV', 'Wannihorn Sport, Rudolf Walter', 'Zenhäusern Sport AG', 'Stirnimann AG, Baumaschinen', 'Stift Höfli', 'Paerli-Chiquet SA', 'Alder AG', 'grisa pharma AG', 'Bordoli Erben AG', 'Schild Elektro AG', 'Hotel-Restaurant Bahnhof', 'ISAG,Informations-Systeme AG', 'Odermatt Kerns AG', 'Lohner Ziegelei AG', 'Mode Seematter', 'Rössli Dürrenast', 'Mohn + Partner AG', 'E. Seiler AG', 'BBT Bohr- + Befestigungssysteme AG', 'Burn & Künzi AG', 'BREITENMOSER & REY GmbH', 'Perosa AG', 'Amrein Handels GmbH', 'Alder & Co.', 'WIR-Partner-Network Romandie', 'Garage Meier AG', 'Rewag AG', 'Fritz Wyss', 'MS PROJECTS Max Selinger', 'R + B engineering ag', 'Höhn + Partner AG', 'Gasthaus Post', 'Reprotec AG', 'ABN Fugen- & Bauabdichtungen AG', 'DM Bois SA', 'B&W - BANTAM WANKMÜLLER S.A.', 'ISOFUTUR SA', 'Edwin Tanner Gipsergeschäft GmbH', 'Bischof-Gross AG', 'Methabau Bau AG', 'Gerber Kran AG', 'Weber Ofenbau AG', 'Bella Casa AG', 'Spinnler & Mathys AG', 'Ibrag Immobilien AG', 'Marti AG Basel', 'KLÄSI Fahrzeugbau AG', 'Papeterie Pfaff,Bürobedarf', 'Garage Sport Lugano SA', 'Hotel Vitznauerhof', 'H + B Wiederkehr AG', 'Wohnen für Senioren Schlössli', 'Platsch AG', 'Kummler + Matter AG', 'diga möbel ag', 'DigiLan AG', 'Atelier Heruma, Inh. Rino Gutknecht', 'Paganini Crap SA', 'Moto Senn AG', 'KLV Bodenbeläge GmbH', 'Pfaff Fertiggaragen AG', 'Blatten-Garage Büchel AG', 'HIT Haus-& Industrietechnik AG', 'H.Götti AG', 'comTeam AG', 'Creditreform Egeli Basel AG', 'Alex Gemperle AG', 'Pro Metal Stock SA', 'Locher Schreinerei AG', 'Schreinerei Berther AG', \"Leo's Stadtbeck\", 'Servicecenter Kottmann GmbH', 'Techno Therm AG', 'Meier-Laube AG Bauunternehmung', 'Fehr Sanitär GmbH', 'Mathis Malerbetriebe GmbH', 'buchertiefbau gmbh', 'Schriften Müller AG', 'Mühle-Garage Brunner AG', 'Wasner AG', 'CFM Immobilien AG', 'ABL Ablaugerei Schweiz GmbH', 'Guido Wick', 'Holzbauwerk AG Ittigen', 'Hauenstein AG', 'Wyss & Partner Maurerakkord GmbH', 'Binder AG Bäder Sanitär Heizung']\n"
     ]
    }
   ],
   "source": [
    "print(company_names)"
   ]
  },
  {
   "cell_type": "code",
   "execution_count": 72,
   "id": "0174ad88",
   "metadata": {},
   "outputs": [
    {
     "name": "stdout",
     "output_type": "stream",
     "text": [
      "5\n",
      "['Werner Portmann', '', '', '', '']\n",
      "['Home', 'WIR-Teilnehmer', 'Shop', 'Pinnwand', 'Ausschreibungen', 'Events', '', '', '', '', '', '', '', '', '', 'Firmeninformationen', 'Artikel im Shop', 'Inserate', 'Ausschreibungen', 'Bewertungen', 'Sonstige lngenieurbüros', 'wir.ch', 'Medien und Presse', 'WIR-Blog', 'Offene Stellen', 'Rechtliche Hinweise', 'Welcome-Screens', 'FAQ', 'Co-Browsing', 'Shop', 'Pinnwand', 'Ausschreibungen', 'WIR-Teilnehmer', 'Profil', 'WIR Bank Genossenschaft\\nAuberg 1\\n4002 Basel', '0800 947 944', 'wirmarket@wir.ch', 'Mo – Fr 07:30 – 18:00']\n"
     ]
    }
   ],
   "source": [
    "url = 'https://wirmarket.wir.ch/de/companyProfile/profile/4F9AD522575A2205E054A0369F14B95F/info/?promo=false'\n",
    "driver = webdriver.Chrome(service=service)\n",
    "driver.get(url)\n",
    "time.sleep(15)\n",
    "uls = driver.find_elements(By.CLASS_NAME, \"default\")\n",
    "list_items = driver.find_elements(By.TAG_NAME,\"li\")\n",
    "headings = driver.find_elements(By.CLASS_NAME, \"inline-block\")\n",
    "li_list = []\n",
    "h3_list = []\n",
    "\n",
    "for li in list_items:\n",
    "    li_list.append(li.text)\n",
    "  \n",
    "    \n",
    "#     for h3 in h3_list:\n",
    "#         h3_list.append(h3.text)\n",
    "    \n",
    "# print(li_list)\n",
    "# \n",
    "print(len(headings))\n",
    "for heading in headings:\n",
    "    h3_list.append(heading.text)\n",
    "print(h3_list)\n",
    "print(li_list)"
   ]
  },
  {
   "cell_type": "code",
   "execution_count": null,
   "id": "e6003173",
   "metadata": {},
   "outputs": [],
   "source": []
  }
 ],
 "metadata": {
  "kernelspec": {
   "display_name": "Python 3 (ipykernel)",
   "language": "python",
   "name": "python3"
  },
  "language_info": {
   "codemirror_mode": {
    "name": "ipython",
    "version": 3
   },
   "file_extension": ".py",
   "mimetype": "text/x-python",
   "name": "python",
   "nbconvert_exporter": "python",
   "pygments_lexer": "ipython3",
   "version": "3.10.9"
  }
 },
 "nbformat": 4,
 "nbformat_minor": 5
}
