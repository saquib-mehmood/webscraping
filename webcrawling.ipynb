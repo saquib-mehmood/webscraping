{
 "cells": [
  {
   "cell_type": "code",
   "execution_count": 8,
   "id": "ff48d842",
   "metadata": {},
   "outputs": [],
   "source": [
    "import scrapy\n",
    "\n",
    "class ExampleSpider(scrapy.Spider):\n",
    "    name = \"example\"\n",
    "    start_urls = [\n",
    "        \"https://www.goyellow.de/deutschland/nordrhein-westfalen/\"\n",
    "    ]\n",
    "\n",
    "    def parse(self, response):\n",
    "        # Extract all links from the page\n",
    "        links = response.css(\"a::attr(href)\").getall()\n",
    "                \n",
    "\n",
    "        \n",
    "        \n",
    "# Iterate over all links and extract those that match the pattern\n",
    "        for link in links:\n",
    "            print(link)\n",
    "            if link.startswith(\"https://www.goyellow.de/\"):\n",
    "                yield {\n",
    "                    'url': link\n",
    "                }\n",
    "\n",
    "        # Follow the next page link if it exists\n",
    "        next_page = response.css(\"a.next::attr(href)\").get()\n",
    "        if next_page is not None:\n",
    "            yield response.follow(next_page, self.parse)\n"
   ]
  },
  {
   "cell_type": "code",
   "execution_count": null,
   "id": "359f850c",
   "metadata": {},
   "outputs": [],
   "source": [
    "scrapy runspider example_spider.py -o urls.csv"
   ]
  },
  {
   "cell_type": "code",
   "execution_count": 7,
   "id": "8af88e51",
   "metadata": {},
   "outputs": [],
   "source": [
    "# Control the browser with Selenium and Navigate to Website\n",
    "from selenium import webdriver\n",
    "from selenium.webdriver.chrome.service import Service as ChromeService\n",
    "from webdriver_manager.chrome import ChromeDriverManager\n",
    "from selenium.webdriver.common.by import By\n",
    "\n",
    "\n",
    "#  Install webdriver manager to automatically detect driver location\n",
    "service = ChromeService(executable_path=ChromeDriverManager().install())\n",
    "\n",
    "driver = webdriver.Chrome(service=service)\n",
    "\n",
    "# driver = webdriver.Chrome(chrome_driver_binary, options=options)\n",
    "url = \"https://www.meinestadt.de/\"\n",
    "\n",
    "# Navigate to the website URL\n",
    "driver.get(url)\n"
   ]
  },
  {
   "cell_type": "code",
   "execution_count": null,
   "id": "2eb5ad87",
   "metadata": {},
   "outputs": [],
   "source": []
  }
 ],
 "metadata": {
  "kernelspec": {
   "display_name": "Python 3 (ipykernel)",
   "language": "python",
   "name": "python3"
  },
  "language_info": {
   "codemirror_mode": {
    "name": "ipython",
    "version": 3
   },
   "file_extension": ".py",
   "mimetype": "text/x-python",
   "name": "python",
   "nbconvert_exporter": "python",
   "pygments_lexer": "ipython3",
   "version": "3.10.9"
  }
 },
 "nbformat": 4,
 "nbformat_minor": 5
}
